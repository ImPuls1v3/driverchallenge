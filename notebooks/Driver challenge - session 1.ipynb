{
 "cells": [
  {
   "cell_type": "code",
   "execution_count": 52,
   "metadata": {
    "collapsed": true
   },
   "outputs": [],
   "source": [
    "from math import sqrt\n",
    "def distance(p1, p2):\n",
    "    return sqrt((p1[0]-p2[0])**2 + (p1[1]-p2[1])**2 )\n",
    "\n",
    "def get_speed(trip):\n",
    "    speed = []\n",
    "    for i in range(len(trip)-1):\n",
    "        speed.append( distance(trip[i], trip[i+1])*3.6 )\n",
    "    return speed"
   ]
  },
  {
   "cell_type": "code",
   "execution_count": 49,
   "metadata": {
    "collapsed": true
   },
   "outputs": [],
   "source": [
    "def get_trip(driver, index):\n",
    "        with open('/Users/missoni/Documents/Kaggle/%d/%d.csv' % (driver,index)) as f:\n",
    "            trip = []\n",
    "            for line in f:\n",
    "                try:\n",
    "                    trip.append([float(i) for i in line.split(',')])\n",
    "                except ValueError:\n",
    "                    continue\n",
    "        return trip"
   ]
  },
  {
   "cell_type": "code",
   "execution_count": 50,
   "metadata": {
    "collapsed": true
   },
   "outputs": [],
   "source": [
    "def plot_driver(driver, limit=200, color='b'):\n",
    "    import matplotlib.pyplot as plt\n",
    "    trips = range(1,limit+1)\n",
    "    fig, ax = plt.subplots()\n",
    "\n",
    "    for index in trips:\n",
    "        trip = get_trip(driver, index)\n",
    "        ax.plot([i[0] for i in trip],[i[1] for i in trip],'-', color='b')\n",
    "            \n",
    "    plt.show()"
   ]
  },
  {
   "cell_type": "code",
   "execution_count": null,
   "metadata": {
    "collapsed": true
   },
   "outputs": [],
   "source": [
    "plot_driver(1,10,'b')"
   ]
  },
  {
   "cell_type": "markdown",
   "metadata": {},
   "source": [
    "Compute and plot speed over time, then compute acceleration"
   ]
  },
  {
   "cell_type": "code",
   "execution_count": 105,
   "metadata": {
    "collapsed": false
   },
   "outputs": [],
   "source": [
    "speed = get_speed(get_trip(1,2))"
   ]
  },
  {
   "cell_type": "code",
   "execution_count": 54,
   "metadata": {
    "collapsed": false
   },
   "outputs": [
    {
     "name": "stdout",
     "output_type": "stream",
     "text": [
      "862\n"
     ]
    }
   ],
   "source": [
    "print len(speed)"
   ]
  },
  {
   "cell_type": "code",
   "execution_count": 64,
   "metadata": {
    "collapsed": true
   },
   "outputs": [],
   "source": [
    "def plot_speed(speed):\n",
    "    import matplotlib.pyplot as plt\n",
    "    fig, ax = plt.subplots()\n",
    "\n",
    "    ax.plot(range(len(speed)),speed,'-', color='b')\n",
    "            \n",
    "    plt.show()"
   ]
  },
  {
   "cell_type": "code",
   "execution_count": 68,
   "metadata": {
    "collapsed": false
   },
   "outputs": [
    {
     "name": "stdout",
     "output_type": "stream",
     "text": [
      "Using matplotlib backend: MacOSX\n"
     ]
    }
   ],
   "source": [
    "%matplotlib "
   ]
  },
  {
   "cell_type": "code",
   "execution_count": 141,
   "metadata": {
    "collapsed": false
   },
   "outputs": [],
   "source": [
    "plot_speed(speed)"
   ]
  },
  {
   "cell_type": "code",
   "execution_count": 71,
   "metadata": {
    "collapsed": true
   },
   "outputs": [],
   "source": [
    "from scipy import signal"
   ]
  },
  {
   "cell_type": "code",
   "execution_count": 73,
   "metadata": {
    "collapsed": true
   },
   "outputs": [],
   "source": [
    "filter_hz = 1e-3"
   ]
  },
  {
   "cell_type": "code",
   "execution_count": 74,
   "metadata": {
    "collapsed": true
   },
   "outputs": [],
   "source": [
    "sampling_frequency = 1"
   ]
  },
  {
   "cell_type": "code",
   "execution_count": 84,
   "metadata": {
    "collapsed": true
   },
   "outputs": [],
   "source": [
    "b, a = signal.butter(3, filter_hz / (sampling_frequency/2.), btype='low')"
   ]
  },
  {
   "cell_type": "code",
   "execution_count": 140,
   "metadata": {
    "collapsed": true
   },
   "outputs": [],
   "source": [
    "sf = signal.lfilter(b, a, speed)"
   ]
  },
  {
   "cell_type": "markdown",
   "metadata": {},
   "source": [
    "No idea what a Butterworth filter does, but it has not helped."
   ]
  },
  {
   "cell_type": "code",
   "execution_count": 79,
   "metadata": {
    "collapsed": false
   },
   "outputs": [],
   "source": [
    "def plot_filtered(before, after):\n",
    "    import matplotlib.pyplot as plt\n",
    "    fig, ax = plt.subplots()\n",
    "\n",
    "    ax.plot(range(len(before)),before,'-', color='b')\n",
    "    ax.plot(range(len(after)),after,'-', color='r')\n",
    "            \n",
    "    plt.show()"
   ]
  },
  {
   "cell_type": "code",
   "execution_count": 126,
   "metadata": {
    "collapsed": false
   },
   "outputs": [],
   "source": [
    "plot_filtered(filtered_speed, speed)"
   ]
  },
  {
   "cell_type": "markdown",
   "metadata": {},
   "source": [
    "Filter speed signal using a median filter. We want to get rid of noise, peaks and speed irregularities."
   ]
  },
  {
   "cell_type": "code",
   "execution_count": 90,
   "metadata": {
    "collapsed": true
   },
   "outputs": [],
   "source": [
    "filtered_speed = signal.medfilt(speed, 9)"
   ]
  },
  {
   "cell_type": "markdown",
   "metadata": {},
   "source": [
    "Smoothed filtered speed. Next step: select window 10 to 30 kmph."
   ]
  },
  {
   "cell_type": "code",
   "execution_count": 127,
   "metadata": {
    "collapsed": false
   },
   "outputs": [],
   "source": [
    "def find_window_30(speed):\n",
    "    \n",
    "    begin = None\n",
    "    begin_time = None\n",
    "    for second, item in enumerate(speed):\n",
    "        if item > 10:\n",
    "            continue\n",
    "        begin = item\n",
    "        begin_time = second\n",
    "        break\n",
    "        \n",
    "    print 'speed', begin, 'at', begin_time, 'sec'\n",
    "    \n",
    "    for second, item in enumerate(speed[begin+1:], start=begin_time+1):    \n",
    "        if item > 10:\n",
    "            begin = item\n",
    "            begin_time = second\n",
    "            break\n",
    "    \n",
    "    for second, item in enumerate(speed[begin+1:], start=begin_time+1):    \n",
    "        if item > 30:\n",
    "            end = item\n",
    "            end_time = second\n",
    "            break\n",
    "        \n",
    "    print 'speed', begin, 'at', begin_time, 'sec', end, 'at', end_time"
   ]
  },
  {
   "cell_type": "code",
   "execution_count": 138,
   "metadata": {
    "collapsed": false
   },
   "outputs": [
    {
     "name": "stdout",
     "output_type": "stream",
     "text": [
      "speed 8.08999381953 at 6 sec\n",
      "speed 13.6989342651 at 12 sec 32.096579257 at 22\n"
     ]
    }
   ],
   "source": [
    "find_window_30(filtered_speed)"
   ]
  },
  {
   "cell_type": "markdown",
   "metadata": {},
   "source": [
    "Here, we have computed the interval where the driver's speed exceeded 10 kmph and achieved 30 kmph. This is a 10-to-30 speed window. Next, we want to measure the acceleration."
   ]
  },
  {
   "cell_type": "code",
   "execution_count": 133,
   "metadata": {
    "collapsed": true
   },
   "outputs": [],
   "source": [
    "def get_acceleration(speed_interval):\n",
    "    acc = []\n",
    "    for i in range(len(speed_interval)-1):\n",
    "        acc.append(speed_interval[i+1] - speed_interval[i])\n",
    "    return acc\n"
   ]
  },
  {
   "cell_type": "code",
   "execution_count": 139,
   "metadata": {
    "collapsed": false
   },
   "outputs": [
    {
     "name": "stdout",
     "output_type": "stream",
     "text": [
      "[2.017859301001879, 3.8759397807113682, 3.6851016040407849, 0.40567830202271793, 1.3927544119720459, 0.085131342343483851, 3.0796774595260636, 1.1865839907320641, 2.668918799518714]\n"
     ]
    }
   ],
   "source": [
    "print get_acceleration(filtered_speed[14:24])\n"
   ]
  },
  {
   "cell_type": "markdown",
   "metadata": {},
   "source": [
    "This is the acceleration in the first 10-to-30 interval."
   ]
  },
  {
   "cell_type": "code",
   "execution_count": 136,
   "metadata": {
    "collapsed": true
   },
   "outputs": [],
   "source": [
    "def plot_acc(acc):\n",
    "    import matplotlib.pyplot as plt\n",
    "    fig, ax = plt.subplots()\n",
    "\n",
    "    ax.plot(range(len(acc)),acc,'-', color='b')\n",
    "            \n",
    "    plt.show()"
   ]
  },
  {
   "cell_type": "code",
   "execution_count": 137,
   "metadata": {
    "collapsed": true
   },
   "outputs": [],
   "source": [
    "plot_acc(get_acceleration(filtered_speed[14:24]))"
   ]
  },
  {
   "cell_type": "markdown",
   "metadata": {},
   "source": [
    "Next step will be to analyze acceleration across all 10-to-30 intervals and compute some scalar metric, e.g. acceleration time. Then, compute the same metric for other speed intervals, 50 to 70, 70 to 100, 100 to 120 and above."
   ]
  }
 ],
 "metadata": {
  "kernelspec": {
   "display_name": "Python 2",
   "language": "python",
   "name": "python2"
  },
  "language_info": {
   "codemirror_mode": {
    "name": "ipython",
    "version": 2
   },
   "file_extension": ".py",
   "mimetype": "text/x-python",
   "name": "python",
   "nbconvert_exporter": "python",
   "pygments_lexer": "ipython2",
   "version": "2.7.6"
  }
 },
 "nbformat": 4,
 "nbformat_minor": 0
}
